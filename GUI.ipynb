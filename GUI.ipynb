{
 "cells": [
  {
   "attachments": {},
   "cell_type": "markdown",
   "metadata": {},
   "source": [
    "# Designing the GUI"
   ]
  },
  {
   "cell_type": "code",
   "execution_count": null,
   "metadata": {},
   "outputs": [],
   "source": [
    "import sys\n",
    "from PyQt5.QtCore import *\n",
    "from PyQt5.QtGui import *\n",
    "from PyQt5.QtWidgets import *\n",
    "\n",
    "text = \"Hello World\"\n",
    "\n",
    "class window(QWidget):\n",
    "   def __init__(self, parent = None):\n",
    "      super(window, self).__init__(parent)\n",
    "      self.resize(400,200)\n",
    "      self.setWindowTitle(\"Oscar\")\n",
    "      self.label = QLabel(self)\n",
    "      self.label.setText(text)\n",
    "      font = QFont()\n",
    "      font.setFamily(\"Arial\")\n",
    "      font.setPointSize(20)\n",
    "      font.setBold(True)\n",
    "      #bg = QPalette()\n",
    "\n",
    "      #bg.setColor(QPalette.Background, Qt.blue)\n",
    "      #self.setPalette(bg)\n",
    "      self.label.setFont(font)\n",
    "      self.label.move(50,20)\n",
    "\n",
    "   def main():\n",
    "      app = QApplication(sys.argv)\n",
    "      ex = window()\n",
    "      ex.show()\n",
    "      sys.exit(app.exec_())\n",
    "\n",
    "   if __name__ == '__main__':\n",
    "      main()\n"
   ]
  },
  {
   "cell_type": "code",
   "execution_count": 13,
   "metadata": {},
   "outputs": [
    {
     "ename": "SystemExit",
     "evalue": "0",
     "output_type": "error",
     "traceback": [
      "An exception has occurred, use %tb to see the full traceback.\n",
      "\u001b[0;31mSystemExit\u001b[0m\u001b[0;31m:\u001b[0m 0\n"
     ]
    }
   ],
   "source": [
    "# instantiate the window class\n",
    "app = QApplication(sys.argv)\n",
    "w = window()\n",
    "w.show()\n",
    "sys.exit(app.exec_())\n"
   ]
  },
  {
   "cell_type": "code",
   "execution_count": 1,
   "metadata": {},
   "outputs": [
    {
     "ename": "",
     "evalue": "",
     "output_type": "error",
     "traceback": [
      "\u001b[1;31mThe Kernel crashed while executing code in the the current cell or a previous cell. Please review the code in the cell(s) to identify a possible cause of the failure. Click <a href='https://aka.ms/vscodeJupyterKernelCrash'>here</a> for more info. View Jupyter <a href='command:jupyter.viewOutput'>log</a> for further details."
     ]
    }
   ],
   "source": [
    "import tkinter as tk\n",
    "from tkinter import *\n",
    "\n",
    "\n",
    "root = Tk()\n",
    "\n",
    "# specify size of window.\n",
    "root.geometry(\"250x170\")\n",
    "\n",
    "# Create text widget and specify size.\n",
    "T = Text(root, height = 5, width = 52)\n",
    "\n",
    "# Create label\n",
    "l = Label(root, text = \"Fact of the Day\")\n",
    "l.config(font =(\"Courier\", 14))\n",
    "\n",
    "Fact = \"\"\"A man can be arrested in\n",
    "Italy for wearing a skirt in public.\"\"\"\n",
    "\n",
    "# Create button for next text.\n",
    "b1 = Button(root, text = \"Next\", )\n",
    "\n",
    "# Create an Exit button.\n",
    "b2 = Button(root, text = \"Exit\",\n",
    "\t\t\tcommand = root.destroy)\n",
    "\n",
    "l.pack()\n",
    "T.pack()\n",
    "b1.pack()\n",
    "b2.pack()\n",
    "\n",
    "# Insert The Fact.\n",
    "T.insert(tk.END, Fact)\n",
    "\n",
    "tk.mainloop()\n"
   ]
  },
  {
   "cell_type": "code",
   "execution_count": 1,
   "metadata": {},
   "outputs": [
    {
     "ename": "",
     "evalue": "",
     "output_type": "error",
     "traceback": [
      "\u001b[1;31mThe Kernel crashed while executing code in the the current cell or a previous cell. Please review the code in the cell(s) to identify a possible cause of the failure. Click <a href='https://aka.ms/vscodeJupyterKernelCrash'>here</a> for more info. View Jupyter <a href='command:jupyter.viewOutput'>log</a> for further details."
     ]
    }
   ],
   "source": [
    "import tkinter as tk\n",
    "from tkinter import *\n",
    "\n",
    "text = \"Hello World, this is a test, this is only a test\"\n",
    "\n",
    "def display_text_gui(text):\n",
    "    root = Tk()\n",
    "    root.geometry(\"600x400\")\n",
    "    T = Text(root, height = 5, width = 52)\n",
    "    l = Label(root, text = \"Fact of the Day\")\n",
    "    l.config(font =(\"Courier\", 14))\n",
    "    b1 = Button(root, text = \"Next\", )\n",
    "    b2 = Button(root, text = \"Exit\", command = root.destroy)\n",
    "    l.pack()\n",
    "    T.pack()\n",
    "    b1.pack()\n",
    "    b2.pack()\n",
    "    T.insert(tk.END, text)\n",
    "    tk.mainloop()\n",
    "\n",
    "display_text_gui(text)"
   ]
  },
  {
   "cell_type": "code",
   "execution_count": null,
   "metadata": {},
   "outputs": [],
   "source": []
  }
 ],
 "metadata": {
  "kernelspec": {
   "display_name": "data",
   "language": "python",
   "name": "python3"
  },
  "language_info": {
   "codemirror_mode": {
    "name": "ipython",
    "version": 3
   },
   "file_extension": ".py",
   "mimetype": "text/x-python",
   "name": "python",
   "nbconvert_exporter": "python",
   "pygments_lexer": "ipython3",
   "version": "3.9.7"
  },
  "orig_nbformat": 4,
  "vscode": {
   "interpreter": {
    "hash": "4b5221f7fd568601ffb692ded55cc6a8f9f720c6422993e13b3964f3c2d5ea0a"
   }
  }
 },
 "nbformat": 4,
 "nbformat_minor": 2
}
